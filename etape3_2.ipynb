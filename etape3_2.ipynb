{
 "cells": [
  {
   "cell_type": "code",
   "execution_count": 2,
   "id": "04bea607-6ba4-4e96-941a-496203a3ee69",
   "metadata": {},
   "outputs": [],
   "source": [
    "import numpy as np\n",
    "import matplotlib.pyplot as plt\n",
    "import pandas as pd\n",
    "from fanalysis.mca import MCA\n",
    "%matplotlib inline\n",
    "df = pd.read_csv('mini_projet.csv')\n",
    "doc = pd.read_csv('doc_var.csv')\n",
    "doc.set_index('var', inplace=True)\n",
    "df = df.drop('Unnamed: 0', axis=1)\n",
    "df.fillna(99999999, inplace=True)\n",
    "df['HV225'] = df['HV225'].astype(int)\n",
    "df['HV230B'] = df['HV230B'].astype(int)\n",
    "df.replace(99999999, 'NaN', inplace=True)\n",
    "df['HV230B'] = df['HV230B'].astype(str)"
   ]
  },
  {
   "cell_type": "code",
   "execution_count": null,
   "id": "01740978",
   "metadata": {},
   "outputs": [],
   "source": []
  },
  {
   "cell_type": "code",
   "execution_count": 90,
   "id": "23337d7d-8541-4eef-81a2-0eeebc770e06",
   "metadata": {},
   "outputs": [],
   "source": [
    "### GRAPHICS\n",
    "#df['HV201'].value_counts(normalize=True).plot.bar(rot=45, legend=False, title='lol')\n",
    "#df.groupby('HV025')['HV205'].value_counts(normalize=True).plot.bar(rot=45, legend=False, title='')\n",
    "#df.groupby('HV025')['HV206'].value_counts(normalize=True).plot.bar(rot=45, legend=False, title='')\n",
    "#df.groupby('HV025')['HV213'].value_counts(normalize=True).plot.bar(rot=45, legend=False, title='')\n",
    "#df.groupby('HV025')['HV214'].value_counts(normalize=True).plot.bar(rot=45, legend=False, title='')\n",
    "#df.groupby('HV025')['HV226'].value_counts(normalize=True).plot.bar(rot=45, legend=False, title='')\n",
    "#df.groupby('HV025')['HV230B'].value_counts(normalize=True).plot.bar(rot=45, legend=False, title='')\n",
    "#df.groupby('HV025')['HV252'].value_counts(normalize=True).plot.bar(rot=90, legend=False, title='')\n",
    "#df.groupby('HV025')['HV270A'].value_counts(normalize=True).plot.bar(rot=90, legend=False, title='')"
   ]
  },
  {
   "cell_type": "code",
   "execution_count": 44,
   "id": "829fc308-ae4c-40b4-bf4e-e809584ee784",
   "metadata": {},
   "outputs": [],
   "source": [
    "### ON PEUT COMMENCER L'ANALYSE EXPLORATOIRE ###"
   ]
  },
  {
   "cell_type": "code",
   "execution_count": 205,
   "id": "6bb7cf02-3ede-4166-bfa1-c1ec493e3d05",
   "metadata": {},
   "outputs": [
    {
     "data": {
      "text/plain": [
       "Earth/Sand        0.475802\n",
       "Cement screed     0.270472\n",
       "Dung and other    0.253727\n",
       "Name: HV213, dtype: float64"
      ]
     },
     "execution_count": 205,
     "metadata": {},
     "output_type": "execute_result"
    }
   ],
   "source": [
    "### VARIABLES CATÉGORIELLES\n",
    "a_grp = df.groupby(['HV025'])\n",
    "w_grp = df.groupby(['HV270A'])\n",
    "r_grp = df.groupby(['HV024'])\n",
    "\n",
    "area = df['HV025'].value_counts()\n",
    "area_p = df['HV025'].value_counts(normalize=True)\n",
    "source_drink = df['HV201'].value_counts(normalize=True)\n",
    "toilet_type = df['HV205'].value_counts(normalize=True)\n",
    "electricity = a_grp['HV206'].sum()\n",
    "electricity = electricity/area\n",
    "floor = df['HV213'].value_counts(normalize=True)\n",
    "wall = df['HV214'].value_counts(normalize=True)\n",
    "cooking_type = df['HV226'].value_counts(normalize=True)\n",
    "no_water_hands = a_grp['HV230B'].apply(lambda x: x.str.contains('0').sum())\n",
    "no_water_hands = no_water_hands/area\n",
    "smoking_freq = df['HV252'].value_counts(normalize=True)\n",
    "wealth = df['HV270A'].value_counts(normalize=True)\n",
    "\n",
    "var_c = [area, area_p, source_drink, toilet_type, electricity,\n",
    "                floor, wall, cooking_type, no_water_hands,\n",
    "                 smoking_freq, wealth]\n",
    "\n",
    "###########################\n",
    "floor\n",
    "###########################\n",
    "### .plot.bar(rot=45, legend=False, title='')"
   ]
  },
  {
   "cell_type": "code",
   "execution_count": 208,
   "id": "605a79ef-bab3-44c7-acdc-5797527d8cdb",
   "metadata": {},
   "outputs": [
    {
     "data": {
      "text/html": [
       "<div>\n",
       "<style scoped>\n",
       "    .dataframe tbody tr th:only-of-type {\n",
       "        vertical-align: middle;\n",
       "    }\n",
       "\n",
       "    .dataframe tbody tr th {\n",
       "        vertical-align: top;\n",
       "    }\n",
       "\n",
       "    .dataframe thead th {\n",
       "        text-align: right;\n",
       "    }\n",
       "</style>\n",
       "<table border=\"1\" class=\"dataframe\">\n",
       "  <thead>\n",
       "    <tr style=\"text-align: right;\">\n",
       "      <th></th>\n",
       "      <th>median</th>\n",
       "      <th>mean</th>\n",
       "      <th>var</th>\n",
       "    </tr>\n",
       "    <tr>\n",
       "      <th>HV270A</th>\n",
       "      <th></th>\n",
       "      <th></th>\n",
       "      <th></th>\n",
       "    </tr>\n",
       "  </thead>\n",
       "  <tbody>\n",
       "    <tr>\n",
       "      <th>Middle</th>\n",
       "      <td>4</td>\n",
       "      <td>4.557132</td>\n",
       "      <td>7.735448</td>\n",
       "    </tr>\n",
       "    <tr>\n",
       "      <th>Poorer</th>\n",
       "      <td>4</td>\n",
       "      <td>4.677452</td>\n",
       "      <td>7.267365</td>\n",
       "    </tr>\n",
       "    <tr>\n",
       "      <th>Poorest</th>\n",
       "      <td>5</td>\n",
       "      <td>4.687472</td>\n",
       "      <td>6.550827</td>\n",
       "    </tr>\n",
       "    <tr>\n",
       "      <th>Richer</th>\n",
       "      <td>4</td>\n",
       "      <td>4.629877</td>\n",
       "      <td>7.886228</td>\n",
       "    </tr>\n",
       "    <tr>\n",
       "      <th>Richest</th>\n",
       "      <td>4</td>\n",
       "      <td>4.718599</td>\n",
       "      <td>8.171503</td>\n",
       "    </tr>\n",
       "  </tbody>\n",
       "</table>\n",
       "</div>"
      ],
      "text/plain": [
       "         median      mean       var\n",
       "HV270A                             \n",
       "Middle        4  4.557132  7.735448\n",
       "Poorer        4  4.677452  7.267365\n",
       "Poorest       5  4.687472  6.550827\n",
       "Richer        4  4.629877  7.886228\n",
       "Richest       4  4.718599  8.171503"
      ]
     },
     "execution_count": 208,
     "metadata": {},
     "output_type": "execute_result"
    },
    {
     "data": {
      "image/png": "[encoded data removed]",
      "text/plain": [
       "<Figure size 432x288 with 1 Axes>"
      ]
     },
     "metadata": {
      "needs_background": "light"
     },
     "output_type": "display_data"
    }
   ],
   "source": [
    "### VARIABLES QUANTITATIVES\n",
    "a_grp = df.groupby(['HV025'])\n",
    "w_grp = df.groupby(['HV270A'])\n",
    "r_grp = df.groupby(['HV024'])\n",
    "\n",
    "rural_flt = df['HV025'] == 'Rural'\n",
    "urban_flt = df['HV025'] == 'Urban'\n",
    "rich_flt = df['HV270A'] == 'Richest'\n",
    "poor_flt = df['HV270A'] == 'Poorest'\n",
    "\n",
    "num_age_head = df.loc[urban_flt]['HV220']\n",
    "num_members =  df.loc[poor_flt]['HV009']\n",
    "\n",
    "age_head = a_grp['HV220'].agg(['median','mean','var'])#.loc['Urban']\n",
    "members =  w_grp['HV009'].agg(['median','mean','var'])#.loc['Urban']\n",
    "\n",
    "var_q = [age_head, members]\n",
    "###########################\n",
    "num_members.plot.box(vert=True, subplots=True, title='')\n",
    "members\n",
    "###########################\n",
    "### .plot.box(vert=True, subplots=True, title='')"
   ]
  },
  {
   "cell_type": "code",
   "execution_count": 204,
   "id": "c612c06e-3357-4c28-838d-e194922d568b",
   "metadata": {},
   "outputs": [
    {
     "data": {
      "text/plain": [
       "array(['Richer', 'Middle', 'Richest', 'Poorer', 'Poorest'], dtype=object)"
      ]
     },
     "execution_count": 204,
     "metadata": {},
     "output_type": "execute_result"
    }
   ],
   "source": [
    "df['HV270A'].unique()"
   ]
  },
  {
   "cell_type": "code",
   "execution_count": null,
   "id": "3090e9d7-6120-4ad5-81ac-bb91e6656d1f",
   "metadata": {},
   "outputs": [],
   "source": []
  },
  {
   "cell_type": "code",
   "execution_count": null,
   "id": "12cdc2b8-8ca7-499f-b407-ad884df95b19",
   "metadata": {},
   "outputs": [],
   "source": []
  },
  {
   "cell_type": "code",
   "execution_count": null,
   "id": "a5ffc890-7323-4f24-8579-e79e0a8a2124",
   "metadata": {},
   "outputs": [],
   "source": []
  },
  {
   "cell_type": "code",
   "execution_count": null,
   "id": "7d7b0b2f-dd58-47e0-9b61-bdc71bb7f81a",
   "metadata": {},
   "outputs": [],
   "source": []
  },
  {
   "cell_type": "code",
   "execution_count": null,
   "id": "b199fea7-ca6b-40da-aae7-41ef0afedcd8",
   "metadata": {},
   "outputs": [],
   "source": []
  },
  {
   "cell_type": "code",
   "execution_count": null,
   "id": "27e44856-6267-4c06-a6cf-befd5b4d3031",
   "metadata": {},
   "outputs": [],
   "source": []
  },
  {
   "cell_type": "code",
   "execution_count": null,
   "id": "1126083c-7b5f-4f8b-9459-3a99038bf7ea",
   "metadata": {},
   "outputs": [],
   "source": [
    "dfc['HV205'].value_counts(normalize=True).plot.bar(rot=45, legend=False,)"
   ]
  },
  {
   "cell_type": "code",
   "execution_count": null,
   "id": "b04396aa-58a8-4a24-b4b1-f72a6248f6f5",
   "metadata": {},
   "outputs": [],
   "source": [
    "dfc.plot.box(vert=True, subplots=True)"
   ]
  },
  {
   "cell_type": "code",
   "execution_count": null,
   "id": "48bb7ca4-d347-402b-bf8f-d3c0f4ac87d9",
   "metadata": {},
   "outputs": [],
   "source": [
    "dfc.groupby('HV025')['HV206'].value_counts(normalize=True).plot.bar(rot=45, legend=False,)"
   ]
  },
  {
   "cell_type": "code",
   "execution_count": 46,
   "id": "22c93571-96e7-4f85-b102-7e76ceeaf792",
   "metadata": {},
   "outputs": [
    {
     "data": {
      "text/plain": [
       "2053"
      ]
     },
     "execution_count": 46,
     "metadata": {},
     "output_type": "execute_result"
    }
   ],
   "source": [
    "# USEFULL\n",
    "area_grp = df.groupby(['HV025'])\n",
    "# Le nombre d'urbain satisfaisant chaque modalité de HV226\n",
    "area_grp['HV226'].value_counts(normalize=True).loc['Urban']\n",
    "# Stats de HV220 pour les urbains\n",
    "area_grp['HV220'].agg(['median','mean']).loc['Urban']\n",
    "# Le nombre de ruraux qui satisfont la modalié 'Charcoal' de la variable 'HV220'\n",
    "area_grp['HV226'].apply(lambda x: x.str.contains('Charcoal').sum()).loc['Rural']"
   ]
  },
  {
   "cell_type": "code",
   "execution_count": 91,
   "id": "059ae3a2-c12e-4be8-903a-bd7ce09640d9",
   "metadata": {},
   "outputs": [
    {
     "data": {
      "text/html": [
       "<div>\n",
       "<style scoped>\n",
       "    .dataframe tbody tr th:only-of-type {\n",
       "        vertical-align: middle;\n",
       "    }\n",
       "\n",
       "    .dataframe tbody tr th {\n",
       "        vertical-align: top;\n",
       "    }\n",
       "\n",
       "    .dataframe thead th {\n",
       "        text-align: right;\n",
       "    }\n",
       "</style>\n",
       "<table border=\"1\" class=\"dataframe\">\n",
       "  <thead>\n",
       "    <tr style=\"text-align: right;\">\n",
       "      <th></th>\n",
       "      <th>charcoal_users</th>\n",
       "      <th>effectif</th>\n",
       "      <th>proportion</th>\n",
       "    </tr>\n",
       "    <tr>\n",
       "      <th>HV025</th>\n",
       "      <th></th>\n",
       "      <th></th>\n",
       "      <th></th>\n",
       "    </tr>\n",
       "  </thead>\n",
       "  <tbody>\n",
       "    <tr>\n",
       "      <th>Rural</th>\n",
       "      <td>2053</td>\n",
       "      <td>15119</td>\n",
       "      <td>0.135789</td>\n",
       "    </tr>\n",
       "    <tr>\n",
       "      <th>Urban</th>\n",
       "      <td>2657</td>\n",
       "      <td>4469</td>\n",
       "      <td>0.594540</td>\n",
       "    </tr>\n",
       "  </tbody>\n",
       "</table>\n",
       "</div>"
      ],
      "text/plain": [
       "       charcoal_users  effectif  proportion\n",
       "HV025                                      \n",
       "Rural            2053     15119    0.135789\n",
       "Urban            2657      4469    0.594540"
      ]
     },
     "execution_count": 91,
     "metadata": {},
     "output_type": "execute_result"
    }
   ],
   "source": [
    "# USEFULL\n",
    "area_grp = df.groupby(['HV025'])\n",
    "people_using_charcoal = area_grp['HV226'].apply(lambda x: x.str.contains('Charcoal').sum())\n",
    "effectifs = df['HV025'].value_counts()\n",
    "charcoal_df = pd.concat([people_using_charcoal, effectifs], axis='columns', sort=False)\n",
    "charcoal_df['proportion'] = charcoal_df['HV226']/charcoal_df['HV025']\n",
    "charcoal_df.rename(columns={'HV226':'charcoal_users', 'HV025':'effectif'}, inplace=True)\n",
    "charcoal_df.sort_values(by='proportion', ascending=False, inplace =False)\n",
    "charcoal_df#.loc['Rural']"
   ]
  },
  {
   "cell_type": "code",
   "execution_count": 195,
   "id": "0af049d6-94c8-4c00-8170-5419530412f9",
   "metadata": {},
   "outputs": [],
   "source": [
    "rural_flt = df['HV025'] == 'Rural'\n",
    "urban_flt = df['HV025'] == 'Urban'"
   ]
  },
  {
   "cell_type": "code",
   "execution_count": 196,
   "id": "c1b7f00e-3f10-4341-8adb-02ce9b2dc1e3",
   "metadata": {},
   "outputs": [
    {
     "data": {
      "text/plain": [
       "2053"
      ]
     },
     "execution_count": 196,
     "metadata": {},
     "output_type": "execute_result"
    }
   ],
   "source": [
    "df.loc[rural_flt]['HV226'].str.contains('Charcoal').sum()"
   ]
  },
  {
   "cell_type": "code",
   "execution_count": null,
   "id": "f6cbf434-5de1-4eaa-a877-b69d341a63f2",
   "metadata": {},
   "outputs": [],
   "source": [
    "df.loc[rural_flt]['HV226'].value_counts(normalize=True)"
   ]
  }
 ],
 "metadata": {
  "kernelspec": {
   "display_name": "Python 3 (ipykernel)",
   "language": "python",
   "name": "python3"
  },
  "language_info": {
   "codemirror_mode": {
    "name": "ipython",
    "version": 3
   },
   "file_extension": ".py",
   "mimetype": "text/x-python",
   "name": "python",
   "nbconvert_exporter": "python",
   "pygments_lexer": "ipython3",
   "version": "3.8.10"
  }
 },
 "nbformat": 4,
 "nbformat_minor": 5
}
